{
 "cells": [
  {
   "cell_type": "markdown",
   "id": "49481fc8",
   "metadata": {},
   "source": [
    "## Environement "
   ]
  },
  {
   "cell_type": "code",
   "execution_count": 1,
   "id": "f4501e65",
   "metadata": {},
   "outputs": [],
   "source": [
    "import datetime\n",
    "import logging\n",
    "\n",
    "\n",
    "import pandas as pd\n",
    "from dateutil.relativedelta import relativedelta\n",
    "import numpy as np\n",
    "import datetime as dt\n",
    "from datetime import timedelta, datetime\n",
    "import sqlalchemy\n",
    "from sqlalchemy import create_engine\n",
    "\n",
    "import json\n",
    "import requests\n",
    "import pandas as pd\n",
    "from six import string_types\n",
    "from six.moves.urllib.parse import urlencode, urlunparse  # noqa\n",
    "\n",
    "from datetime import date\n",
    "from datetime import timedelta\n",
    "\n",
    "import gspread\n",
    "from oauth2client.service_account import ServiceAccountCredentials\n",
    "from pprint import pprint\n",
    "from datetime import datetime\n",
    "\n",
    "import custome_credential\n",
    "POSTGRES_ADDRESS = custome_credential.POSTGRES_ADDRESS\n",
    "POSTGRES_PORT = custome_credential.POSTGRES_PORT\n",
    "POSTGRES_USERNAME = custome_credential.POSTGRES_USERNAME\n",
    "POSTGRES_PASSWORD = custome_credential.POSTGRES_PASSWORD\n",
    "POSTGRES_DBNAME = custome_credential.POSTGRES_DBNAME\n",
    "\n",
    "postgres_str = ('postgresql://{username}:{password}@{ipaddress}:{port}/{dbname}'.format(\n",
    "    username=POSTGRES_USERNAME,\n",
    "    password=POSTGRES_PASSWORD,\n",
    "    ipaddress=POSTGRES_ADDRESS,\n",
    "    port=POSTGRES_PORT,\n",
    "    dbname=POSTGRES_DBNAME))\n",
    "\n",
    "cnx = create_engine(postgres_str)"
   ]
  },
  {
   "cell_type": "code",
   "execution_count": 2,
   "id": "ae36be07",
   "metadata": {},
   "outputs": [],
   "source": [
    "df=pd.read_csv('###############.csv')\n",
    "df_save=df"
   ]
  },
  {
   "cell_type": "markdown",
   "id": "96229263",
   "metadata": {},
   "source": [
    "## prepare Datatable "
   ]
  },
  {
   "cell_type": "code",
   "execution_count": 3,
   "id": "421e31e5",
   "metadata": {},
   "outputs": [
    {
     "name": "stderr",
     "output_type": "stream",
     "text": [
      "C:\\Users\\MarkMao\\anaconda3\\envs\\powerpy3.7\\lib\\site-packages\\ipykernel_launcher.py:3: SettingWithCopyWarning: \n",
      "A value is trying to be set on a copy of a slice from a DataFrame.\n",
      "Try using .loc[row_indexer,col_indexer] = value instead\n",
      "\n",
      "See the caveats in the documentation: https://pandas.pydata.org/pandas-docs/stable/user_guide/indexing.html#returning-a-view-versus-a-copy\n",
      "  This is separate from the ipykernel package so we can avoid doing imports until\n"
     ]
    }
   ],
   "source": [
    "# only select numerical rating and favorate flavor \n",
    "df=df[[col for col in df.columns if \"rating\" in col]]\n",
    "df['survey_favorite_flavor']=df_save['survey_favorite_flavor']"
   ]
  },
  {
   "cell_type": "markdown",
   "id": "aee193d7",
   "metadata": {},
   "source": [
    "## Stag 1 model\n",
    "\n",
    "1. Website filtering\n",
    "\n",
    "2. Cosine similarity\n",
    "\n",
    "Bosth require defining the qualitative matrix for each flavor "
   ]
  },
  {
   "cell_type": "markdown",
   "id": "c56249b9",
   "metadata": {},
   "source": [
    "## Model selection\n",
    "simplest stage 2 model which take a string(favorate flavor as input)\n",
    "\n",
    "### Weighted_rating: it is weighted average for certain favorate flavor by how much rating for each flavor. \n",
    "### It is meant to emphasize the popularity for each flavor"
   ]
  },
  {
   "cell_type": "code",
   "execution_count": 4,
   "id": "638dfe16",
   "metadata": {},
   "outputs": [],
   "source": [
    "\n",
    "def weighted_rating(favorate):\n",
    "    tmp_df=df[df['survey_favorite_flavor']==favorate]\n",
    "    tmp_df=tmp_df.drop(columns=['survey_favorite_flavor'])\n",
    "    #number of valid rating for each flavor\n",
    "    v = tmp_df.count()\n",
    "    #average rating of the each flavor\n",
    "    R = df.mean()\n",
    "    #mean number of valid rating across the whole table\n",
    "    C= tmp_df.count().mean()\n",
    "    \n",
    "    # Calculation weighted score based on average rating plus constant of weighted number of valid rating\n",
    "    return (R) + ((v-C)/v.std())/2"
   ]
  },
  {
   "cell_type": "markdown",
   "id": "b5e9e91a",
   "metadata": {},
   "source": [
    "### simple_rating: it is average for certain favorate flavor . \n",
    "### It is meant to emphasize the only the average rating for each flavor"
   ]
  },
  {
   "cell_type": "code",
   "execution_count": 5,
   "id": "adbf0484",
   "metadata": {},
   "outputs": [],
   "source": [
    "def simple_rating(favorate):\n",
    "    tmp_df=df[df['survey_favorite_flavor']==favorate]\n",
    "    tmp_df=tmp_df.drop(columns=['survey_favorite_flavor'])\n",
    "    #number of valid rating for each flavor\n",
    "    v = tmp_df.count()\n",
    "    #average rating of the each flavor\n",
    "    R = df.mean()\n",
    "    #mean number of valid rating across the whole table\n",
    "    C= tmp_df.count().mean()\n",
    "    \n",
    "    # Calculation weighted score based on average rating plus constant of weighted number of valid rating\n",
    "    return (R) "
   ]
  },
  {
   "cell_type": "code",
   "execution_count": null,
   "id": "c29c4e80",
   "metadata": {},
   "outputs": [],
   "source": [
    "#print top 5 high score\n",
    "weighted_rating('BASE-PURECUC').sort_values(ascending=False).head(5)"
   ]
  },
  {
   "cell_type": "code",
   "execution_count": null,
   "id": "97b55e8f",
   "metadata": {},
   "outputs": [],
   "source": [
    "#print top 5 high score\n",
    "simple_rating('BASE-LIFECP').sort_values(ascending=False).head(5)"
   ]
  },
  {
   "cell_type": "markdown",
   "id": "53d045c3",
   "metadata": {},
   "source": [
    "## recommendation\n",
    "It can be a good idea to test how people like those two kind of recommendation model by AB testing "
   ]
  },
  {
   "cell_type": "markdown",
   "id": "71c2c7b8",
   "metadata": {},
   "source": [
    "# SVD model, Collaborative filtering "
   ]
  },
  {
   "cell_type": "code",
   "execution_count": 9,
   "id": "f97b4ec1",
   "metadata": {},
   "outputs": [],
   "source": [
    "df_svd=df[[col for col in df.columns if \"rating\" in col]]"
   ]
  },
  {
   "cell_type": "code",
   "execution_count": 10,
   "id": "b4755c80",
   "metadata": {},
   "outputs": [],
   "source": [
    "df_svd=df_svd.reset_index().rename(columns={'index':'user_id'})"
   ]
  },
  {
   "cell_type": "code",
   "execution_count": 11,
   "id": "18d2fe45",
   "metadata": {},
   "outputs": [],
   "source": [
    "keys = [col for col in df.columns if \"rating\" in col]\n",
    "df_svd=pd.melt(df_svd, id_vars='user_id', value_vars=keys, value_name='key')"
   ]
  },
  {
   "cell_type": "code",
   "execution_count": 13,
   "id": "6c70cf83",
   "metadata": {},
   "outputs": [],
   "source": [
    "df_svd=df_svd[['user_id', 'variable', 'key']]"
   ]
  },
  {
   "cell_type": "code",
   "execution_count": 14,
   "id": "51ae06eb",
   "metadata": {},
   "outputs": [],
   "source": [
    "df_svd=df_svd.dropna(subset=['key'])"
   ]
  },
  {
   "cell_type": "code",
   "execution_count": 16,
   "id": "c7d2aad1",
   "metadata": {},
   "outputs": [],
   "source": [
    "from surprise import Dataset\n",
    "from surprise import Reader\n",
    "reader = Reader(rating_scale=(1, 10))\n",
    "data = Dataset.load_from_df(df_svd[['user_id', 'variable', 'key']], reader)"
   ]
  },
  {
   "cell_type": "code",
   "execution_count": 17,
   "id": "475ba196",
   "metadata": {},
   "outputs": [
    {
     "data": {
      "text/plain": [
       "<surprise.reader.Reader at 0x28b79a9cdc8>"
      ]
     },
     "execution_count": 17,
     "metadata": {},
     "output_type": "execute_result"
    }
   ],
   "source": [
    "reader"
   ]
  },
  {
   "cell_type": "code",
   "execution_count": 29,
   "id": "5ca5a06e",
   "metadata": {
    "scrolled": true
   },
   "outputs": [
    {
     "name": "stdout",
     "output_type": "stream",
     "text": [
      "Processing epoch 0\n",
      "Processing epoch 1\n",
      "Processing epoch 2\n",
      "Processing epoch 3\n",
      "Processing epoch 4\n",
      "Processing epoch 5\n",
      "Processing epoch 6\n",
      "Processing epoch 7\n",
      "Processing epoch 8\n",
      "Processing epoch 9\n",
      "Processing epoch 10\n",
      "Processing epoch 11\n",
      "Processing epoch 12\n",
      "Processing epoch 13\n",
      "Processing epoch 14\n",
      "Processing epoch 15\n",
      "Processing epoch 16\n",
      "Processing epoch 17\n",
      "Processing epoch 18\n",
      "Processing epoch 19\n",
      "Processing epoch 0\n",
      "Processing epoch 1\n",
      "Processing epoch 2\n",
      "Processing epoch 3\n",
      "Processing epoch 4\n",
      "Processing epoch 5\n",
      "Processing epoch 6\n",
      "Processing epoch 7\n",
      "Processing epoch 8\n",
      "Processing epoch 9\n",
      "Processing epoch 10\n",
      "Processing epoch 11\n",
      "Processing epoch 12\n",
      "Processing epoch 13\n",
      "Processing epoch 14\n",
      "Processing epoch 15\n",
      "Processing epoch 16\n",
      "Processing epoch 17\n",
      "Processing epoch 18\n",
      "Processing epoch 19\n",
      "Processing epoch 0\n",
      "Processing epoch 1\n",
      "Processing epoch 2\n",
      "Processing epoch 3\n",
      "Processing epoch 4\n",
      "Processing epoch 5\n",
      "Processing epoch 6\n",
      "Processing epoch 7\n",
      "Processing epoch 8\n",
      "Processing epoch 9\n",
      "Processing epoch 10\n",
      "Processing epoch 11\n",
      "Processing epoch 12\n",
      "Processing epoch 13\n",
      "Processing epoch 14\n",
      "Processing epoch 15\n",
      "Processing epoch 16\n",
      "Processing epoch 17\n",
      "Processing epoch 18\n",
      "Processing epoch 19\n",
      "Evaluating RMSE, MAE of algorithm SVD on 3 split(s).\n",
      "\n",
      "                  Fold 1  Fold 2  Fold 3  Mean    Std     \n",
      "RMSE (testset)    2.2869  2.2920  2.2829  2.2873  0.0037  \n",
      "MAE (testset)     1.7685  1.7706  1.7651  1.7681  0.0022  \n",
      "RMSE (trainset)   0.7850  0.7922  0.7471  0.7748  0.0198  \n",
      "MAE (trainset)    0.4606  0.4603  0.4448  0.4552  0.0074  \n",
      "Fit time          87.44   85.75   87.10   86.76   0.73    \n",
      "Test time         3.47    3.83    3.78    3.69    0.16    \n"
     ]
    },
    {
     "data": {
      "text/plain": [
       "{'test_rmse': array([2.28687689, 2.29204858, 2.28291841]),\n",
       " 'train_rmse': array([0.78501097, 0.79218574, 0.74706859]),\n",
       " 'test_mae': array([1.76850375, 1.77055755, 1.76513471]),\n",
       " 'train_mae': array([0.46063897, 0.46031067, 0.4447657 ]),\n",
       " 'fit_time': (87.44206285476685, 85.75314474105835, 87.09716367721558),\n",
       " 'test_time': (3.4670567512512207, 3.833305835723877, 3.779313802719116)}"
      ]
     },
     "execution_count": 29,
     "metadata": {},
     "output_type": "execute_result"
    }
   ],
   "source": [
    "from surprise import SVD\n",
    "from surprise.model_selection import cross_validate\n",
    "svd = SVD(verbose=True, n_epochs=20,n_factors =200,lr_all =0.01)\n",
    "cross_validate(svd, data, measures=['RMSE', 'MAE'],return_train_measures=True, cv=3, verbose=True)"
   ]
  },
  {
   "cell_type": "markdown",
   "id": "44adb131",
   "metadata": {},
   "source": [
    "# grid search"
   ]
  },
  {
   "cell_type": "code",
   "execution_count": 30,
   "id": "a66577dc",
   "metadata": {},
   "outputs": [
    {
     "name": "stderr",
     "output_type": "stream",
     "text": [
      "[Parallel(n_jobs=1)]: Using backend SequentialBackend with 1 concurrent workers.\n",
      "[Parallel(n_jobs=1)]: Done  54 out of  54 | elapsed: 34.2min finished\n"
     ]
    }
   ],
   "source": [
    "from surprise import SVD\n",
    "from surprise import Dataset\n",
    "from surprise import accuracy\n",
    "from surprise.model_selection import GridSearchCV\n",
    "param_grid = {'n_epochs': [5, 10,15], 'lr_all': [0.002, 0.005,0.001],'n_factors': [200,100]}\n",
    "grid_search = GridSearchCV(SVD, param_grid, measures=['rmse'], cv=3,joblib_verbose=1)\n",
    "grid_search.fit(data)\n"
   ]
  },
  {
   "cell_type": "code",
   "execution_count": 31,
   "id": "463da4d5",
   "metadata": {},
   "outputs": [
    {
     "name": "stdout",
     "output_type": "stream",
     "text": [
      "Evaluating RMSE, MAE of algorithm SVD on 3 split(s).\n",
      "\n",
      "                  Fold 1  Fold 2  Fold 3  Mean    Std     \n",
      "RMSE (testset)    2.3033  2.3069  2.3034  2.3045  0.0017  \n",
      "MAE (testset)     1.7806  1.7839  1.7825  1.7823  0.0014  \n",
      "RMSE (trainset)   0.5235  0.5265  0.5193  0.5231  0.0030  \n",
      "MAE (trainset)    0.3709  0.3721  0.3708  0.3712  0.0006  \n",
      "Fit time          60.74   60.29   60.67   60.57   0.20    \n",
      "Test time         3.88    4.07    3.78    3.91    0.12    \n"
     ]
    },
    {
     "data": {
      "text/plain": [
       "{'test_rmse': array([2.30329452, 2.30686657, 2.30336345]),\n",
       " 'train_rmse': array([0.52350755, 0.52654275, 0.51933306]),\n",
       " 'test_mae': array([1.78055395, 1.78391642, 1.78249863]),\n",
       " 'train_mae': array([0.370898  , 0.37209206, 0.37075537]),\n",
       " 'fit_time': (60.74272179603577, 60.29292869567871, 60.666943311691284),\n",
       " 'test_time': (3.8761606216430664, 4.073827266693115, 3.780325174331665)}"
      ]
     },
     "execution_count": 31,
     "metadata": {},
     "output_type": "execute_result"
    }
   ],
   "source": [
    "best_svd = grid_search.best_estimator['rmse']\n",
    "cross_validate(best_svd, data, measures=['RMSE', 'MAE'],return_train_measures=True, cv=3, verbose=True)"
   ]
  },
  {
   "cell_type": "code",
   "execution_count": 42,
   "id": "d3246fa1",
   "metadata": {},
   "outputs": [
    {
     "name": "stdout",
     "output_type": "stream",
     "text": [
      "Processing epoch 0\n",
      "Processing epoch 1\n",
      "Processing epoch 2\n",
      "Processing epoch 3\n",
      "Processing epoch 4\n",
      "Processing epoch 0\n",
      "Processing epoch 1\n",
      "Processing epoch 2\n",
      "Processing epoch 3\n",
      "Processing epoch 4\n",
      "Processing epoch 0\n",
      "Processing epoch 1\n",
      "Processing epoch 2\n",
      "Processing epoch 3\n",
      "Processing epoch 4\n",
      "Evaluating RMSE, MAE of algorithm SVD on 3 split(s).\n",
      "\n",
      "                  Fold 1  Fold 2  Fold 3  Mean    Std     \n",
      "RMSE (testset)    2.3403  2.3468  2.3428  2.3433  0.0027  \n",
      "MAE (testset)     1.8022  1.8050  1.8038  1.8037  0.0012  \n",
      "RMSE (trainset)   1.5253  1.5181  1.5084  1.5172  0.0069  \n",
      "MAE (trainset)    1.1403  1.1375  1.1273  1.1350  0.0056  \n",
      "Fit time          21.00   21.15   21.24   21.13   0.10    \n",
      "Test time         3.83    4.02    4.10    3.98    0.11    \n"
     ]
    },
    {
     "data": {
      "text/plain": [
       "{'test_rmse': array([2.34030708, 2.34680504, 2.34277811]),\n",
       " 'train_rmse': array([1.52525082, 1.51805376, 1.50836042]),\n",
       " 'test_mae': array([1.80218754, 1.80502395, 1.80382748]),\n",
       " 'train_mae': array([1.14031516, 1.13750555, 1.12731834]),\n",
       " 'fit_time': (20.995699405670166, 21.14903211593628, 21.237251043319702),\n",
       " 'test_time': (3.8278257846832275, 4.021021366119385, 4.09672737121582)}"
      ]
     },
     "execution_count": 42,
     "metadata": {},
     "output_type": "execute_result"
    }
   ],
   "source": [
    "svd = SVD(verbose=True, n_epochs=5,n_factors =200,lr_all =0.005)\n",
    "cross_validate(svd, data, measures=['RMSE', 'MAE'],return_train_measures=True, cv=3, verbose=True)"
   ]
  },
  {
   "cell_type": "code",
   "execution_count": 40,
   "id": "d9f48ff9",
   "metadata": {},
   "outputs": [
    {
     "data": {
      "text/plain": [
       "{'rmse': {'n_epochs': 15, 'lr_all': 0.005, 'n_factors': 200}}"
      ]
     },
     "execution_count": 40,
     "metadata": {},
     "output_type": "execute_result"
    }
   ],
   "source": [
    "grid_search.best_params"
   ]
  },
  {
   "cell_type": "markdown",
   "id": "dba474a8",
   "metadata": {},
   "source": [
    "# optimal parameter: \n",
    "### Overfitting but lowest RMSE: \n",
    "\n",
    "Number of factors: 200\n",
    "\n",
    "Number of recommendation algorithm iterations: 15\n",
    "\n",
    "Learning rate: 0.005\n",
    "\n",
    "### not overfitting with relatively low RMSE: \n",
    "\n",
    "Number of factors: 200\n",
    "\n",
    "Number of recommendation algorithm iterations: 5\n",
    "\n",
    "Learning rate: 0.005"
   ]
  },
  {
   "cell_type": "code",
   "execution_count": 46,
   "id": "8f1e5294",
   "metadata": {
    "scrolled": true
   },
   "outputs": [
    {
     "name": "stdout",
     "output_type": "stream",
     "text": [
      "Processing epoch 0\n",
      "Processing epoch 1\n",
      "Processing epoch 2\n",
      "Processing epoch 3\n",
      "Processing epoch 4\n"
     ]
    },
    {
     "data": {
      "text/plain": [
       "<surprise.prediction_algorithms.matrix_factorization.SVD at 0x28b2d62f748>"
      ]
     },
     "execution_count": 46,
     "metadata": {},
     "output_type": "execute_result"
    }
   ],
   "source": [
    "#fit the model with all data we had\n",
    "trainset = data.build_full_trainset()\n",
    "svd.fit(trainset)"
   ]
  },
  {
   "cell_type": "code",
   "execution_count": 48,
   "id": "4aee7496",
   "metadata": {},
   "outputs": [],
   "source": [
    "#make a prediction \n",
    "testset = trainset.build_testset()\n",
    "predictions = svd.test(testset)"
   ]
  }
 ],
 "metadata": {
  "kernelspec": {
   "display_name": "Python 3 (ipykernel)",
   "language": "python",
   "name": "python3"
  },
  "language_info": {
   "codemirror_mode": {
    "name": "ipython",
    "version": 3
   },
   "file_extension": ".py",
   "mimetype": "text/x-python",
   "name": "python",
   "nbconvert_exporter": "python",
   "pygments_lexer": "ipython3",
   "version": "3.7.9"
  }
 },
 "nbformat": 4,
 "nbformat_minor": 5
}
